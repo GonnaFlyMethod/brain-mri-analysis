{
 "cells": [
  {
   "cell_type": "code",
   "execution_count": 3,
   "id": "43c91cb9-877f-43d0-a92e-70512ff7b055",
   "metadata": {},
   "outputs": [],
   "source": [
    "import os\n",
    "import torch\n",
    "import torchvision\n",
    "from torchvision import transforms , datasets\n",
    "\n",
    "from torch.utils.data import DataLoader , random_split\n",
    "import torch.nn as nn \n",
    "import torch.optim as optim\n",
    "import numpy as np \n",
    "import pandas"
   ]
  },
  {
   "cell_type": "code",
   "execution_count": 4,
   "id": "a8567ed4-14e1-477f-9246-16511309297e",
   "metadata": {},
   "outputs": [],
   "source": [
    "transform = transforms.Compose([\n",
    "    transforms.Resize((224,224)),\n",
    "    transforms.ToTensor(),\n",
    "    transforms.Normalize([0.5],[0.5])\n",
    "    \n",
    "])"
   ]
  },
  {
   "cell_type": "code",
   "execution_count": 5,
   "id": "df47e2af-a532-4ebe-81b2-8732192852da",
   "metadata": {},
   "outputs": [],
   "source": [
    "train_data=datasets.ImageFolder('./dataset/Training',transform=transform)\n",
    "test_data=datasets.ImageFolder('./dataset/Testing',transform=transform)"
   ]
  },
  {
   "cell_type": "code",
   "execution_count": 6,
   "id": "050a1305-7ae4-41b5-8771-690273bf4ac2",
   "metadata": {},
   "outputs": [
    {
     "data": {
      "text/plain": [
       "Dataset ImageFolder\n",
       "    Number of datapoints: 5712\n",
       "    Root location: ./dataset/Training\n",
       "    StandardTransform\n",
       "Transform: Compose(\n",
       "               Resize(size=(224, 224), interpolation=bilinear, max_size=None, antialias=True)\n",
       "               ToTensor()\n",
       "               Normalize(mean=[0.5], std=[0.5])\n",
       "           )"
      ]
     },
     "execution_count": 6,
     "metadata": {},
     "output_type": "execute_result"
    }
   ],
   "source": [
    "train_data"
   ]
  },
  {
   "cell_type": "code",
   "execution_count": 7,
   "id": "4e9ca641-6f53-4c3e-9e62-708bd325578d",
   "metadata": {},
   "outputs": [],
   "source": [
    "train_size=int(0.8 * len(train_data))\n",
    "val_size=len(train_data)-train_size\n",
    "\n",
    "train_dataset,val_dataset=random_split(train_data,[train_size,val_size])"
   ]
  },
  {
   "cell_type": "code",
   "execution_count": 8,
   "id": "3f23a663-734d-4b07-b883-44b92a6ff78e",
   "metadata": {},
   "outputs": [],
   "source": [
    "train_loader=DataLoader(train_dataset,batch_size=32,shuffle=True)\n",
    "val_loader=DataLoader(val_dataset,batch_size=16,shuffle=True)\n",
    "test_loader=DataLoader(test_data,batch_size=16,shuffle=True)\n"
   ]
  },
  {
   "cell_type": "code",
   "execution_count": 9,
   "id": "6843cd0d-037d-4f42-b1e2-ce33f8617ee9",
   "metadata": {},
   "outputs": [],
   "source": [
    "class CNN(nn.Module):\n",
    "    def __init__(self):\n",
    "        super(CNN, self).__init__()\n",
    "        self.conv = nn.Sequential(\n",
    "            nn.Conv2d(3, 32, 3, padding=1),    # First convolutional layer with 32 filters (kernels)\n",
    "            nn.ReLU(),                         # ReLU activation function to amplify important signal\n",
    "            nn.MaxPool2d(2),                   # Decreasing dimension of feature maps by the factor of 2\n",
    "            nn.Conv2d(32, 64, 3, padding=1),   # Another convolutional layer with 64 filters\n",
    "            nn.ReLU(),                         # ReLU activation function to amplify important signal\n",
    "            nn.MaxPool2d(2)                    # Decreasing dimensions of feature map agaub by the f actor of 2\n",
    "        )\n",
    "\n",
    "        self.fc1 = nn.Sequential(\n",
    "            # Mapping this tensor:\n",
    "            # [\n",
    "            #      <image>: [1 x 200704 vector],\n",
    "            #      <image>: [1 x 200704 vector],\n",
    "            #               .\n",
    "            #               .\n",
    "            #               .\n",
    "            # ]\n",
    "            #  to this tensor with preservation of features:\n",
    "            # [\n",
    "            #      <image>: [1 x 128 vector],\n",
    "            #      <image>: [1 x 128 vector],\n",
    "            #               .\n",
    "            #               .\n",
    "            #               .\n",
    "            # ]\n",
    "            \n",
    "            nn.Linear(64 * 56 * 56, 128),\n",
    "            nn.ReLU(),\n",
    "            nn.Dropout(0.15),                      # Randomization of feature maps to prevent overfitting\n",
    "            nn.Linear(128, 4)                      # Getting logits for each image with 1 x 4 vector, each element in this vector represents\n",
    "                                                   # raw probability\n",
    "        )\n",
    "\n",
    "    def forward(self, x):\n",
    "        x = self.conv(x)\n",
    "        x = x.view(x.size(0), -1)          # getting shape ( batch_size, 64 * 56 * 56 ) \n",
    "        x = self.fc1(x)\n",
    "        return torch.softmax(x, dim=1)     # outputting probabilities that sum up to 1\n"
   ]
  },
  {
   "cell_type": "code",
   "execution_count": 12,
   "id": "fb267a91-a335-4724-bfca-cba572e19eac",
   "metadata": {},
   "outputs": [
    {
     "name": "stdout",
     "output_type": "stream",
     "text": [
      "conv.0.weight torch.Size([32, 3, 3, 3]) True None\n",
      "conv.0.bias torch.Size([32]) True None\n",
      "conv.3.weight torch.Size([64, 32, 3, 3]) True None\n",
      "conv.3.bias torch.Size([64]) True None\n",
      "fc1.0.weight torch.Size([128, 200704]) True None\n",
      "fc1.0.bias torch.Size([128]) True None\n",
      "fc1.3.weight torch.Size([4, 128]) True None\n",
      "fc1.3.bias torch.Size([4]) True None\n"
     ]
    }
   ],
   "source": [
    "device=torch.device(\"cuda\" if torch.cuda.is_available() else \"cpu\")\n",
    "model=CNN().to(device)\n",
    "\n",
    "for name, param in model.named_parameters():\n",
    "    print(name, param.shape, param.requires_grad, param.grad)\n"
   ]
  },
  {
   "cell_type": "code",
   "execution_count": 16,
   "id": "441c599b-11ac-42ba-b95c-e3416d46af61",
   "metadata": {},
   "outputs": [],
   "source": [
    "crit=nn.CrossEntropyLoss()\n",
    "optimizer=optim.Adam(model.parameters(),lr=0.01)"
   ]
  },
  {
   "cell_type": "code",
   "execution_count": 18,
   "id": "1c9e0918-1ef9-4216-816e-f3eacb467630",
   "metadata": {},
   "outputs": [
    {
     "name": "stdout",
     "output_type": "stream",
     "text": [
      "Epoch [1/10] - Loss: 1.4703, Accuracy: 27.34%\n",
      "Epoch [2/10] - Loss: 1.4702, Accuracy: 27.34%\n",
      "Epoch [3/10] - Loss: 1.4700, Accuracy: 27.34%\n",
      "Epoch [4/10] - Loss: 1.4702, Accuracy: 27.34%\n",
      "Epoch [5/10] - Loss: 1.4702, Accuracy: 27.34%\n",
      "Epoch [6/10] - Loss: 1.4704, Accuracy: 27.34%\n",
      "Epoch [7/10] - Loss: 1.4703, Accuracy: 27.34%\n",
      "Epoch [8/10] - Loss: 1.4706, Accuracy: 27.34%\n",
      "Epoch [9/10] - Loss: 1.4704, Accuracy: 27.34%\n",
      "Epoch [10/10] - Loss: 1.4702, Accuracy: 27.34%\n"
     ]
    }
   ],
   "source": [
    "for epoch in range(10):\n",
    "    model.train()\n",
    "    total_loss = 0.0\n",
    "    correct = 0\n",
    "    total = 0\n",
    "\n",
    "    for images, labels in train_loader:\n",
    "        images = images.to(device)\n",
    "        labels = labels.to(device)\n",
    "\n",
    "        optimizer.zero_grad()\n",
    "        outputs = model(images)\n",
    "        loss = crit(outputs, labels)\n",
    "        loss.backward()\n",
    "        optimizer.step()\n",
    "\n",
    "        total_loss += loss.item()\n",
    "\n",
    "        # Optional: Track accuracy\n",
    "        _, predicted = torch.max(outputs, 1)\n",
    "        correct += (predicted == labels).sum().item()\n",
    "        total += labels.size(0)\n",
    "\n",
    "    avg_loss = total_loss / len(train_loader)\n",
    "    accuracy = 100 * correct / total\n",
    "\n",
    "    print(f\"Epoch [{epoch+1}/10] - Loss: {avg_loss:.4f}, Accuracy: {accuracy:.2f}%\")"
   ]
  },
  {
   "cell_type": "code",
   "execution_count": 13,
   "id": "4e80511c-efd6-4c50-9f4c-743c5c8e94b6",
   "metadata": {},
   "outputs": [],
   "source": [
    "from torchvision.models import resnet50"
   ]
  },
  {
   "cell_type": "code",
   "execution_count": 14,
   "id": "fb4371f8-a7ef-4fa4-907e-54cd8dd76ff3",
   "metadata": {},
   "outputs": [],
   "source": [
    "model=resnet50().to(device)\n",
    "model.fc=nn.Linear(model.fc.in_features,4).to(device)\n",
    "\n",
    "crit=nn.CrossEntropyLoss()\n",
    "optimizer=optim.Adam(model.parameters(),lr=0.01)"
   ]
  },
  {
   "cell_type": "code",
   "execution_count": 15,
   "id": "93ddcd11-f5e6-49ae-b68e-a5b4dc6de131",
   "metadata": {},
   "outputs": [
    {
     "name": "stdout",
     "output_type": "stream",
     "text": [
      "Epoch [1/10] - Loss: 1.6174, Accuracy: 48.06%\n",
      "Epoch [2/10] - Loss: 0.8384, Accuracy: 67.08%\n",
      "Epoch [3/10] - Loss: 0.7132, Accuracy: 71.59%\n",
      "Epoch [4/10] - Loss: 0.7121, Accuracy: 73.25%\n",
      "Epoch [5/10] - Loss: 0.6152, Accuracy: 77.11%\n",
      "Epoch [6/10] - Loss: 0.5542, Accuracy: 78.77%\n",
      "Epoch [7/10] - Loss: 0.5119, Accuracy: 80.70%\n",
      "Epoch [8/10] - Loss: 0.4972, Accuracy: 81.27%\n",
      "Epoch [9/10] - Loss: 0.4519, Accuracy: 83.32%\n",
      "Epoch [10/10] - Loss: 0.4230, Accuracy: 84.15%\n"
     ]
    }
   ],
   "source": [
    "for epoch in range(10):\n",
    "    model.train()\n",
    "    total_loss = 0.0\n",
    "    correct = 0\n",
    "    total = 0\n",
    "\n",
    "    for images, labels in train_loader:\n",
    "        images = images.to(device)\n",
    "        labels = labels.to(device)\n",
    "\n",
    "        optimizer.zero_grad()\n",
    "        outputs = model(images)\n",
    "        loss = crit(outputs, labels)\n",
    "        loss.backward()\n",
    "        optimizer.step()\n",
    "\n",
    "        total_loss += loss.item()\n",
    "\n",
    "        # Optional: Track accuracy\n",
    "        _, predicted = torch.max(outputs, 1)\n",
    "        correct += (predicted == labels).sum().item()\n",
    "        total += labels.size(0)\n",
    "\n",
    "    avg_loss = total_loss / len(train_loader)\n",
    "    accuracy = 100 * correct / total\n",
    "\n",
    "    print(f\"Epoch [{epoch+1}/10] - Loss: {avg_loss:.4f}, Accuracy: {accuracy:.2f}%\")"
   ]
  },
  {
   "cell_type": "code",
   "execution_count": 17,
   "id": "b565a594-4b73-4d32-a94a-3f18244742c6",
   "metadata": {},
   "outputs": [],
   "source": [
    "# Dump the model\n",
    "torch.save(model.state_dict(), 'resnet50_trained.pth')"
   ]
  },
  {
   "cell_type": "code",
   "execution_count": null,
   "id": "3bfbf9e5-543f-464d-be1d-a991804e8004",
   "metadata": {},
   "outputs": [],
   "source": []
  }
 ],
 "metadata": {
  "kernelspec": {
   "display_name": "brain_mri",
   "language": "python",
   "name": "brain_mri"
  },
  "language_info": {
   "codemirror_mode": {
    "name": "ipython",
    "version": 3
   },
   "file_extension": ".py",
   "mimetype": "text/x-python",
   "name": "python",
   "nbconvert_exporter": "python",
   "pygments_lexer": "ipython3",
   "version": "3.10.16"
  }
 },
 "nbformat": 4,
 "nbformat_minor": 5
}
