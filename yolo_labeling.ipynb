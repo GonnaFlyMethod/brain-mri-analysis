{
 "cells": [
  {
   "cell_type": "code",
   "execution_count": 4,
   "id": "5882d9ce-8120-4ac7-bede-9604b2947760",
   "metadata": {},
   "outputs": [],
   "source": [
    "import os\n",
    "from PIL import Image"
   ]
  },
  {
   "cell_type": "code",
   "execution_count": 5,
   "id": "07316d8d-10da-40e2-8479-0002acce8ee7",
   "metadata": {},
   "outputs": [],
   "source": [
    "dataset_root = \"./dataset\"  # e.g. \"./brain_tumor_dataset\"\n",
    "output_images_dir = \"yolo_images\"\n",
    "output_labels_dir = \"yolo_labels\""
   ]
  },
  {
   "cell_type": "code",
   "execution_count": 6,
   "id": "00b93168-8148-4d86-9dbc-bdcb791a644f",
   "metadata": {},
   "outputs": [],
   "source": [
    "label_map = {\n",
    "    \"glioma\": 0,\n",
    "    \"meningioma\": 1,\n",
    "    \"notumor\": 2,\n",
    "    \"pituitary\": 3,\n",
    "}"
   ]
  },
  {
   "cell_type": "code",
   "execution_count": 7,
   "id": "769ed32b-9f16-4e26-bf01-0d1f0a49263c",
   "metadata": {},
   "outputs": [],
   "source": [
    "for split in [\"Training\", \"Testing\"]:\n",
    "    for subdir in label_map:\n",
    "        os.makedirs(os.path.join(output_images_dir, split, subdir), exist_ok=True)\n",
    "        os.makedirs(os.path.join(output_labels_dir, split, subdir), exist_ok=True)\n"
   ]
  },
  {
   "cell_type": "code",
   "execution_count": 9,
   "id": "85b84513-d57d-489f-861b-16f923360b52",
   "metadata": {},
   "outputs": [],
   "source": [
    "from PIL import Image\n",
    "import os\n",
    "\n",
    "for split in [\"Training\", \"Testing\"]:\n",
    "    for class_name in label_map:\n",
    "        class_dir = os.path.join(dataset_root, split, class_name)\n",
    "        if not os.path.exists(class_dir):\n",
    "            continue\n",
    "        class_id = label_map[class_name]\n",
    "\n",
    "        for filename in os.listdir(class_dir):\n",
    "            if not filename.lower().endswith(('.jpg', '.jpeg', '.png')):\n",
    "                continue\n",
    "\n",
    "            # Open image to get dimensions\n",
    "            image_path = os.path.join(class_dir, filename)\n",
    "            image = Image.open(image_path)\n",
    "\n",
    "            # Convert to RGB if needed\n",
    "            if image.mode in (\"RGBA\", \"P\"):\n",
    "                image = image.convert(\"RGB\")\n",
    "\n",
    "            width, height = image.size\n",
    "\n",
    "            # Create YOLO annotation (full image box)\n",
    "            yolo_line = f\"{class_id} 0.5 0.5 1.0 1.0\\n\"\n",
    "\n",
    "            # Save image to output directory\n",
    "            new_image_path = os.path.join(output_images_dir, split, class_name, filename)\n",
    "            os.makedirs(os.path.dirname(new_image_path), exist_ok=True)\n",
    "            image.save(new_image_path)\n",
    "\n",
    "            # Save label file\n",
    "            label_filename = os.path.splitext(filename)[0] + \".txt\"\n",
    "            label_path = os.path.join(output_labels_dir, split, class_name, label_filename)\n",
    "            os.makedirs(os.path.dirname(label_path), exist_ok=True)\n",
    "            with open(label_path, \"w\") as f:\n",
    "                f.write(yolo_line)\n"
   ]
  },
  {
   "cell_type": "code",
   "execution_count": null,
   "id": "d32d592b-eec0-47a6-9f4b-b86de69e42c8",
   "metadata": {},
   "outputs": [],
   "source": []
  }
 ],
 "metadata": {
  "kernelspec": {
   "display_name": "brain_mri",
   "language": "python",
   "name": "brain_mri"
  },
  "language_info": {
   "codemirror_mode": {
    "name": "ipython",
    "version": 3
   },
   "file_extension": ".py",
   "mimetype": "text/x-python",
   "name": "python",
   "nbconvert_exporter": "python",
   "pygments_lexer": "ipython3",
   "version": "3.10.16"
  }
 },
 "nbformat": 4,
 "nbformat_minor": 5
}
